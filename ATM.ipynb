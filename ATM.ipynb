{
 "cells": [
  {
   "cell_type": "code",
   "execution_count": 43,
   "id": "ea139116-2b31-40b1-9c8b-f0ec40da9bd9",
   "metadata": {},
   "outputs": [
    {
     "name": "stdout",
     "output_type": "stream",
     "text": [
      "enter ur 4 digit pin: 1234\n"
     ]
    },
    {
     "name": "stdout",
     "output_type": "stream",
     "text": [
      "access granted!!\n"
     ]
    },
    {
     "name": "stdout",
     "output_type": "stream",
     "text": [
      "enter amount 5000\n"
     ]
    },
    {
     "name": "stdout",
     "output_type": "stream",
     "text": [
      "amount withdraw: 5000\n",
      "Remaining balance : 0\n",
      "thankyou for using axis bank\n"
     ]
    }
   ],
   "source": [
    "pin=int(input(\"enter ur 4 digit pin:\"))\n",
    "spin=1234\n",
    "balance=5000\n",
    "if pin==spin:\n",
    "    print(\"access granted!!\")\n",
    "    withdraw=int(input(\"enter amount\"))\n",
    "    if withdraw>balance:\n",
    "        print(\"insufficient funds!!!!\")\n",
    "    else:\n",
    "        print(\"amount withdraw:\",withdraw)\n",
    "        print(\"Remaining balance :\",balance-withdraw)\n",
    "        print(\"thankyou for using axis bank\")\n",
    "else:\n",
    "    print(\"access denied\")"
   ]
  },
  {
   "cell_type": "code",
   "execution_count": null,
   "id": "3df2ca9a-ca3d-44c8-8b64-b8f4f5af3c74",
   "metadata": {},
   "outputs": [],
   "source": []
  }
 ],
 "metadata": {
  "kernelspec": {
   "display_name": "Python 3 (ipykernel)",
   "language": "python",
   "name": "python3"
  },
  "language_info": {
   "codemirror_mode": {
    "name": "ipython",
    "version": 3
   },
   "file_extension": ".py",
   "mimetype": "text/x-python",
   "name": "python",
   "nbconvert_exporter": "python",
   "pygments_lexer": "ipython3",
   "version": "3.12.7"
  }
 },
 "nbformat": 4,
 "nbformat_minor": 5
}
